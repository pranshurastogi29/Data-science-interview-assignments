{
 "cells": [
  {
   "cell_type": "code",
   "execution_count": 1,
   "metadata": {
    "_cell_guid": "b1076dfc-b9ad-4769-8c92-a6c4dae69d19",
    "_uuid": "8f2839f25d086af736a60e9eeb907d3b93b6e0e5",
    "execution": {
     "iopub.execute_input": "2020-10-18T14:01:54.998620Z",
     "iopub.status.busy": "2020-10-18T14:01:54.997789Z",
     "iopub.status.idle": "2020-10-18T14:02:19.021028Z",
     "shell.execute_reply": "2020-10-18T14:02:19.020277Z"
    },
    "papermill": {
     "duration": 24.048015,
     "end_time": "2020-10-18T14:02:19.021161",
     "exception": false,
     "start_time": "2020-10-18T14:01:54.973146",
     "status": "completed"
    },
    "tags": []
   },
   "outputs": [
    {
     "name": "stdout",
     "output_type": "stream",
     "text": [
      "Requirement already satisfied: umap-learn in /opt/conda/lib/python3.7/site-packages (0.4.6)\r\n",
      "Requirement already satisfied: scipy>=1.3.1 in /opt/conda/lib/python3.7/site-packages (from umap-learn) (1.4.1)\r\n",
      "Requirement already satisfied: numpy>=1.17 in /opt/conda/lib/python3.7/site-packages (from umap-learn) (1.18.5)\r\n",
      "Requirement already satisfied: numba!=0.47,>=0.46 in /opt/conda/lib/python3.7/site-packages (from umap-learn) (0.48.0)\r\n",
      "Requirement already satisfied: scikit-learn>=0.20 in /opt/conda/lib/python3.7/site-packages (from umap-learn) (0.23.2)\r\n",
      "Requirement already satisfied: setuptools in /opt/conda/lib/python3.7/site-packages (from numba!=0.47,>=0.46->umap-learn) (46.1.3.post20200325)\r\n",
      "Requirement already satisfied: llvmlite<0.32.0,>=0.31.0dev0 in /opt/conda/lib/python3.7/site-packages (from numba!=0.47,>=0.46->umap-learn) (0.31.0)\r\n",
      "Requirement already satisfied: threadpoolctl>=2.0.0 in /opt/conda/lib/python3.7/site-packages (from scikit-learn>=0.20->umap-learn) (2.1.0)\r\n",
      "Requirement already satisfied: joblib>=0.11 in /opt/conda/lib/python3.7/site-packages (from scikit-learn>=0.20->umap-learn) (0.14.1)\r\n",
      "\u001b[33mWARNING: You are using pip version 20.2.3; however, version 20.2.4 is available.\r\n",
      "You should consider upgrading via the '/opt/conda/bin/python3.7 -m pip install --upgrade pip' command.\u001b[0m\r\n",
      "Collecting sentence-transformers\r\n",
      "  Downloading sentence-transformers-0.3.7.2.tar.gz (59 kB)\r\n",
      "\u001b[K     |████████████████████████████████| 59 kB 430 kB/s \r\n",
      "\u001b[?25hCollecting transformers<3.4.0,>=3.1.0\r\n",
      "  Downloading transformers-3.3.1-py3-none-any.whl (1.1 MB)\r\n",
      "\u001b[K     |████████████████████████████████| 1.1 MB 1.4 MB/s \r\n",
      "\u001b[?25hRequirement already satisfied, skipping upgrade: tqdm in /opt/conda/lib/python3.7/site-packages (from sentence-transformers) (4.45.0)\r\n",
      "Requirement already satisfied, skipping upgrade: torch>=1.2.0 in /opt/conda/lib/python3.7/site-packages (from sentence-transformers) (1.6.0)\r\n",
      "Requirement already satisfied, skipping upgrade: numpy in /opt/conda/lib/python3.7/site-packages (from sentence-transformers) (1.18.5)\r\n",
      "Requirement already satisfied, skipping upgrade: scikit-learn in /opt/conda/lib/python3.7/site-packages (from sentence-transformers) (0.23.2)\r\n",
      "Requirement already satisfied, skipping upgrade: scipy in /opt/conda/lib/python3.7/site-packages (from sentence-transformers) (1.4.1)\r\n",
      "Requirement already satisfied, skipping upgrade: nltk in /opt/conda/lib/python3.7/site-packages (from sentence-transformers) (3.2.4)\r\n",
      "Requirement already satisfied, skipping upgrade: regex!=2019.12.17 in /opt/conda/lib/python3.7/site-packages (from transformers<3.4.0,>=3.1.0->sentence-transformers) (2020.4.4)\r\n",
      "Requirement already satisfied, skipping upgrade: filelock in /opt/conda/lib/python3.7/site-packages (from transformers<3.4.0,>=3.1.0->sentence-transformers) (3.0.10)\r\n",
      "Requirement already satisfied, skipping upgrade: packaging in /opt/conda/lib/python3.7/site-packages (from transformers<3.4.0,>=3.1.0->sentence-transformers) (20.1)\r\n",
      "Collecting tokenizers==0.8.1.rc2\r\n",
      "  Downloading tokenizers-0.8.1rc2-cp37-cp37m-manylinux1_x86_64.whl (3.0 MB)\r\n",
      "\u001b[K     |████████████████████████████████| 3.0 MB 5.1 MB/s \r\n",
      "\u001b[?25hRequirement already satisfied, skipping upgrade: sentencepiece!=0.1.92 in /opt/conda/lib/python3.7/site-packages (from transformers<3.4.0,>=3.1.0->sentence-transformers) (0.1.91)\r\n",
      "Requirement already satisfied, skipping upgrade: sacremoses in /opt/conda/lib/python3.7/site-packages (from transformers<3.4.0,>=3.1.0->sentence-transformers) (0.0.43)\r\n",
      "Requirement already satisfied, skipping upgrade: requests in /opt/conda/lib/python3.7/site-packages (from transformers<3.4.0,>=3.1.0->sentence-transformers) (2.23.0)\r\n",
      "Requirement already satisfied, skipping upgrade: future in /opt/conda/lib/python3.7/site-packages (from torch>=1.2.0->sentence-transformers) (0.18.2)\r\n",
      "Requirement already satisfied, skipping upgrade: threadpoolctl>=2.0.0 in /opt/conda/lib/python3.7/site-packages (from scikit-learn->sentence-transformers) (2.1.0)\r\n",
      "Requirement already satisfied, skipping upgrade: joblib>=0.11 in /opt/conda/lib/python3.7/site-packages (from scikit-learn->sentence-transformers) (0.14.1)\r\n",
      "Requirement already satisfied, skipping upgrade: six in /opt/conda/lib/python3.7/site-packages (from nltk->sentence-transformers) (1.14.0)\r\n",
      "Requirement already satisfied, skipping upgrade: pyparsing>=2.0.2 in /opt/conda/lib/python3.7/site-packages (from packaging->transformers<3.4.0,>=3.1.0->sentence-transformers) (2.4.7)\r\n",
      "Requirement already satisfied, skipping upgrade: click in /opt/conda/lib/python3.7/site-packages (from sacremoses->transformers<3.4.0,>=3.1.0->sentence-transformers) (7.1.1)\r\n",
      "Requirement already satisfied, skipping upgrade: chardet<4,>=3.0.2 in /opt/conda/lib/python3.7/site-packages (from requests->transformers<3.4.0,>=3.1.0->sentence-transformers) (3.0.4)\r\n",
      "Requirement already satisfied, skipping upgrade: idna<3,>=2.5 in /opt/conda/lib/python3.7/site-packages (from requests->transformers<3.4.0,>=3.1.0->sentence-transformers) (2.9)\r\n",
      "Requirement already satisfied, skipping upgrade: urllib3!=1.25.0,!=1.25.1,<1.26,>=1.21.1 in /opt/conda/lib/python3.7/site-packages (from requests->transformers<3.4.0,>=3.1.0->sentence-transformers) (1.24.3)\r\n",
      "Requirement already satisfied, skipping upgrade: certifi>=2017.4.17 in /opt/conda/lib/python3.7/site-packages (from requests->transformers<3.4.0,>=3.1.0->sentence-transformers) (2020.6.20)\r\n",
      "Building wheels for collected packages: sentence-transformers\r\n",
      "  Building wheel for sentence-transformers (setup.py) ... \u001b[?25l-\b \b\\\b \b|\b \bdone\r\n",
      "\u001b[?25h  Created wheel for sentence-transformers: filename=sentence_transformers-0.3.7.2-py3-none-any.whl size=91186 sha256=0be461cee263c998155d3012b90c95b58d360e9d911c843300a8709249bcbcc0\r\n",
      "  Stored in directory: /root/.cache/pip/wheels/df/42/15/b8329fd622ed2e9ee15b00314a387aa7d70e402d144349d540\r\n",
      "Successfully built sentence-transformers\r\n",
      "Installing collected packages: tokenizers, transformers, sentence-transformers\r\n",
      "  Attempting uninstall: tokenizers\r\n",
      "    Found existing installation: tokenizers 0.8.1rc1\r\n",
      "    Uninstalling tokenizers-0.8.1rc1:\r\n",
      "      Successfully uninstalled tokenizers-0.8.1rc1\r\n",
      "  Attempting uninstall: transformers\r\n",
      "    Found existing installation: transformers 3.0.2\r\n",
      "    Uninstalling transformers-3.0.2:\r\n",
      "      Successfully uninstalled transformers-3.0.2\r\n",
      "\u001b[31mERROR: After October 2020 you may experience errors when installing or updating packages. This is because pip will change the way that it resolves dependency conflicts.\r\n",
      "\r\n",
      "We recommend you use --use-feature=2020-resolver to test your packages with the new resolver before it becomes the default.\r\n",
      "\r\n",
      "allennlp 1.1.0 requires transformers<3.1,>=3.0, but you'll have transformers 3.3.1 which is incompatible.\u001b[0m\r\n",
      "Successfully installed sentence-transformers-0.3.7.2 tokenizers-0.8.1rc2 transformers-3.3.1\r\n",
      "\u001b[33mWARNING: You are using pip version 20.2.3; however, version 20.2.4 is available.\r\n",
      "You should consider upgrading via the '/opt/conda/bin/python3.7 -m pip install --upgrade pip' command.\u001b[0m\r\n"
     ]
    }
   ],
   "source": [
    "!pip install umap-learn\n",
    "!pip install -U sentence-transformers"
   ]
  },
  {
   "cell_type": "code",
   "execution_count": 2,
   "metadata": {
    "_cell_guid": "79c7e3d0-c299-4dcb-8224-4455121ee9b0",
    "_uuid": "d629ff2d2480ee46fbb7e2d37f6b5fab8052498a",
    "execution": {
     "iopub.execute_input": "2020-10-18T14:02:19.107363Z",
     "iopub.status.busy": "2020-10-18T14:02:19.106329Z",
     "iopub.status.idle": "2020-10-18T14:02:30.557788Z",
     "shell.execute_reply": "2020-10-18T14:02:30.557179Z"
    },
    "papermill": {
     "duration": 11.496079,
     "end_time": "2020-10-18T14:02:30.557948",
     "exception": false,
     "start_time": "2020-10-18T14:02:19.061869",
     "status": "completed"
    },
    "tags": []
   },
   "outputs": [
    {
     "name": "stderr",
     "output_type": "stream",
     "text": [
      "\u001b[34m\u001b[1mwandb\u001b[0m: \u001b[33mWARNING\u001b[0m W&B installed but not logged in.  Run `wandb login` or set the WANDB_API_KEY env variable.\n"
     ]
    }
   ],
   "source": [
    "import numpy as np\n",
    "import pandas as pd\n",
    "import umap\n",
    "from sentence_transformers import SentenceTransformer\n",
    "import matplotlib.pyplot as plt\n",
    "from sklearn.model_selection import StratifiedKFold\n",
    "from scipy.stats import rankdata\n",
    "import lightgbm as lgb\n",
    "from sklearn import metrics\n",
    "import gc\n",
    "import warnings"
   ]
  },
  {
   "cell_type": "code",
   "execution_count": 3,
   "metadata": {
    "execution": {
     "iopub.execute_input": "2020-10-18T14:02:30.675026Z",
     "iopub.status.busy": "2020-10-18T14:02:30.674226Z",
     "iopub.status.idle": "2020-10-18T14:02:30.775965Z",
     "shell.execute_reply": "2020-10-18T14:02:30.775186Z"
    },
    "papermill": {
     "duration": 0.180144,
     "end_time": "2020-10-18T14:02:30.776088",
     "exception": false,
     "start_time": "2020-10-18T14:02:30.595944",
     "status": "completed"
    },
    "tags": []
   },
   "outputs": [],
   "source": [
    "np.random.seed(0)\n",
    "data = pd.read_csv('../input/data-set-augment-intent/data_file.csv')['Utterance'].values\n",
    "labels = pd.read_csv('../input/data-set-augment-intent/data_file.csv')['Intent'].values"
   ]
  },
  {
   "cell_type": "code",
   "execution_count": 4,
   "metadata": {
    "execution": {
     "iopub.execute_input": "2020-10-18T14:02:30.858124Z",
     "iopub.status.busy": "2020-10-18T14:02:30.857384Z",
     "iopub.status.idle": "2020-10-18T14:04:32.776449Z",
     "shell.execute_reply": "2020-10-18T14:04:32.775727Z"
    },
    "papermill": {
     "duration": 121.962116,
     "end_time": "2020-10-18T14:04:32.776583",
     "exception": false,
     "start_time": "2020-10-18T14:02:30.814467",
     "status": "completed"
    },
    "tags": []
   },
   "outputs": [
    {
     "name": "stderr",
     "output_type": "stream",
     "text": [
      "100%|██████████| 245M/245M [00:17<00:00, 14.0MB/s]\n"
     ]
    },
    {
     "data": {
      "application/vnd.jupyter.widget-view+json": {
       "model_id": "d02d9b1e50dd45f8a678471a30483065",
       "version_major": 2,
       "version_minor": 0
      },
      "text/plain": [
       "HBox(children=(FloatProgress(value=0.0, description='Batches', max=301.0, style=ProgressStyle(description_widt…"
      ]
     },
     "metadata": {},
     "output_type": "display_data"
    },
    {
     "name": "stdout",
     "output_type": "stream",
     "text": [
      "\n"
     ]
    }
   ],
   "source": [
    "model = SentenceTransformer('distilbert-base-nli-mean-tokens')\n",
    "embeddings = model.encode(data, show_progress_bar=True)"
   ]
  },
  {
   "cell_type": "code",
   "execution_count": 5,
   "metadata": {
    "execution": {
     "iopub.execute_input": "2020-10-18T14:04:32.979468Z",
     "iopub.status.busy": "2020-10-18T14:04:32.978508Z",
     "iopub.status.idle": "2020-10-18T14:04:32.981652Z",
     "shell.execute_reply": "2020-10-18T14:04:32.980968Z"
    },
    "papermill": {
     "duration": 0.108306,
     "end_time": "2020-10-18T14:04:32.981766",
     "exception": false,
     "start_time": "2020-10-18T14:04:32.873460",
     "status": "completed"
    },
    "tags": []
   },
   "outputs": [],
   "source": [
    "from sklearn import preprocessing\n",
    "le = preprocessing.LabelEncoder()\n",
    "labels = le.fit_transform(labels)"
   ]
  },
  {
   "cell_type": "code",
   "execution_count": 6,
   "metadata": {
    "execution": {
     "iopub.execute_input": "2020-10-18T14:04:33.182152Z",
     "iopub.status.busy": "2020-10-18T14:04:33.181116Z",
     "iopub.status.idle": "2020-10-18T14:04:33.184266Z",
     "shell.execute_reply": "2020-10-18T14:04:33.183566Z"
    },
    "papermill": {
     "duration": 0.106636,
     "end_time": "2020-10-18T14:04:33.184394",
     "exception": false,
     "start_time": "2020-10-18T14:04:33.077758",
     "status": "completed"
    },
    "tags": []
   },
   "outputs": [],
   "source": [
    "df = pd.DataFrame(embeddings)\n",
    "df['label'] = pd.Series(labels)"
   ]
  },
  {
   "cell_type": "code",
   "execution_count": 7,
   "metadata": {
    "execution": {
     "iopub.execute_input": "2020-10-18T14:04:33.409624Z",
     "iopub.status.busy": "2020-10-18T14:04:33.386601Z",
     "iopub.status.idle": "2020-10-18T14:04:33.444275Z",
     "shell.execute_reply": "2020-10-18T14:04:33.443504Z"
    },
    "papermill": {
     "duration": 0.163296,
     "end_time": "2020-10-18T14:04:33.444414",
     "exception": false,
     "start_time": "2020-10-18T14:04:33.281118",
     "status": "completed"
    },
    "tags": []
   },
   "outputs": [],
   "source": [
    "##splitting the data for finding better hyperparamters\n",
    "df1 = df.drop(columns=['label'])\n",
    "target = 'label'\n",
    "predictors = df.columns[:-1]\n",
    "bayesian_tr_index, bayesian_val_index  = list(StratifiedKFold(n_splits=5, shuffle=True, random_state=1).split(df1[predictors], df[target].values))[0]"
   ]
  },
  {
   "cell_type": "code",
   "execution_count": 8,
   "metadata": {
    "execution": {
     "iopub.execute_input": "2020-10-18T14:04:33.703587Z",
     "iopub.status.busy": "2020-10-18T14:04:33.687487Z",
     "iopub.status.idle": "2020-10-18T14:04:33.706942Z",
     "shell.execute_reply": "2020-10-18T14:04:33.706320Z"
    },
    "papermill": {
     "duration": 0.141115,
     "end_time": "2020-10-18T14:04:33.707069",
     "exception": false,
     "start_time": "2020-10-18T14:04:33.565954",
     "status": "completed"
    },
    "tags": []
   },
   "outputs": [],
   "source": [
    "train_df = df1[predictors]\n",
    "predictor = df1.columns[:-1].values.astype('str')\n",
    "def LGB_bayesian(\n",
    "    num_leaves,  # int\n",
    "    min_data_in_leaf,  # int\n",
    "    learning_rate,\n",
    "    min_sum_hessian_in_leaf,    # int  \n",
    "    feature_fraction,\n",
    "    lambda_l1,\n",
    "    lambda_l2,\n",
    "    min_gain_to_split,\n",
    "    max_depth):\n",
    "    \n",
    "    # LightGBM expects next three parameters need to be integer. So we make them integer\n",
    "    num_leaves = int(num_leaves)\n",
    "    min_data_in_leaf = int(min_data_in_leaf)\n",
    "    max_depth = int(max_depth)\n",
    "\n",
    "    assert type(num_leaves) == int\n",
    "    assert type(min_data_in_leaf) == int\n",
    "    assert type(max_depth) == int\n",
    "\n",
    "    param = {\n",
    "        'num_leaves': num_leaves,\n",
    "        'max_bin': 63,\n",
    "        'min_data_in_leaf': min_data_in_leaf,\n",
    "        'learning_rate': learning_rate,\n",
    "        'min_sum_hessian_in_leaf': min_sum_hessian_in_leaf,\n",
    "        'bagging_fraction': 1.0,\n",
    "        'bagging_freq': 5,\n",
    "        'num_class':144,\n",
    "        'feature_fraction': feature_fraction,\n",
    "        'lambda_l1': lambda_l1,\n",
    "        'lambda_l2': lambda_l2,\n",
    "        'min_gain_to_split': min_gain_to_split,\n",
    "        'max_depth': max_depth,\n",
    "        'save_binary': True, \n",
    "        'seed': 1337,\n",
    "        'feature_fraction_seed': 1337,\n",
    "        'bagging_seed': 1337,\n",
    "        'drop_seed': 1337,\n",
    "        'data_random_seed': 1337,\n",
    "        'objective': 'multiclass',\n",
    "        'boosting_type': 'gbdt',\n",
    "        'verbose': 1,\n",
    "        'metric': 'multi_error',\n",
    "        'is_unbalance': True,\n",
    "        'boost_from_average': False,   \n",
    "\n",
    "    }    \n",
    "    \n",
    "    \n",
    "    xg_train = lgb.Dataset(df1.iloc[bayesian_tr_index].values,\n",
    "                           label=df.iloc[bayesian_tr_index][target].values,\n",
    "                           free_raw_data = False\n",
    "                           )\n",
    "    xg_valid = lgb.Dataset(df1.iloc[bayesian_val_index].values,\n",
    "                           label=df.iloc[bayesian_val_index][target].values,\n",
    "                           free_raw_data = False\n",
    "                           )   \n",
    "\n",
    "    num_round = 1500\n",
    "    clf = lgb.train(param, xg_train, num_round, valid_sets =[xg_valid], verbose_eval=250, early_stopping_rounds = 200)\n",
    "    \n",
    "    predictions = clf.predict(df1.iloc[bayesian_val_index].values, num_iteration=clf.best_iteration)   \n",
    "    \n",
    "    score = metrics.accuracy_score(df.iloc[bayesian_val_index][target].values, np.argmax(predictions,axis=1))\n",
    "    \n",
    "    return score"
   ]
  },
  {
   "cell_type": "code",
   "execution_count": 9,
   "metadata": {
    "execution": {
     "iopub.execute_input": "2020-10-18T14:04:33.914882Z",
     "iopub.status.busy": "2020-10-18T14:04:33.913825Z",
     "iopub.status.idle": "2020-10-18T14:04:33.916602Z",
     "shell.execute_reply": "2020-10-18T14:04:33.917171Z"
    },
    "papermill": {
     "duration": 0.11285,
     "end_time": "2020-10-18T14:04:33.917328",
     "exception": false,
     "start_time": "2020-10-18T14:04:33.804478",
     "status": "completed"
    },
    "tags": []
   },
   "outputs": [],
   "source": [
    "# Bounded region of parameter space\n",
    "bounds_LGB = {\n",
    "    'num_leaves': (5, 20), \n",
    "    'min_data_in_leaf': (5, 20),  \n",
    "    'learning_rate': (0.01, 0.3),\n",
    "    'min_sum_hessian_in_leaf': (0.00001, 0.01),    \n",
    "    'feature_fraction': (0.05, 0.5),\n",
    "    'lambda_l1': (0, 5.0), \n",
    "    'lambda_l2': (0, 5.0), \n",
    "    'min_gain_to_split': (0, 1.0),\n",
    "    'max_depth':(3,15)\n",
    "}"
   ]
  },
  {
   "cell_type": "code",
   "execution_count": 10,
   "metadata": {
    "execution": {
     "iopub.execute_input": "2020-10-18T14:04:34.118425Z",
     "iopub.status.busy": "2020-10-18T14:04:34.117477Z",
     "iopub.status.idle": "2020-10-18T14:04:34.141277Z",
     "shell.execute_reply": "2020-10-18T14:04:34.140502Z"
    },
    "papermill": {
     "duration": 0.125792,
     "end_time": "2020-10-18T14:04:34.141402",
     "exception": false,
     "start_time": "2020-10-18T14:04:34.015610",
     "status": "completed"
    },
    "tags": []
   },
   "outputs": [],
   "source": [
    "from bayes_opt import BayesianOptimization\n",
    "LGB_BO = BayesianOptimization(LGB_bayesian, bounds_LGB, random_state=13)"
   ]
  },
  {
   "cell_type": "code",
   "execution_count": 11,
   "metadata": {
    "execution": {
     "iopub.execute_input": "2020-10-18T14:04:34.343824Z",
     "iopub.status.busy": "2020-10-18T14:04:34.343089Z",
     "iopub.status.idle": "2020-10-18T14:59:16.988728Z",
     "shell.execute_reply": "2020-10-18T14:59:16.964458Z"
    },
    "papermill": {
     "duration": 3282.749363,
     "end_time": "2020-10-18T14:59:16.988899",
     "exception": false,
     "start_time": "2020-10-18T14:04:34.239536",
     "status": "completed"
    },
    "tags": []
   },
   "outputs": [
    {
     "name": "stdout",
     "output_type": "stream",
     "text": [
      "----------------------------------------------------------------------------------------------------------------------------------\n",
      "|   iter    |  target   | featur... | lambda_l1 | lambda_l2 | learni... | max_depth | min_da... | min_ga... | min_su... | num_le... |\n",
      "-------------------------------------------------------------------------------------------------------------------------------------\n",
      "Training until validation scores don't improve for 200 rounds\n",
      "Early stopping, best iteration is:\n",
      "[24]\tvalid_0's multi_error: 0.212987\n",
      "|  1        |  0.787    |  0.4      |  1.188    |  4.121    |  0.2901   |  14.67    |  11.8     |  0.609    |  0.007758 |  14.62    |\n",
      "Training until validation scores don't improve for 200 rounds\n",
      "[250]\tvalid_0's multi_error: 0.178701\n",
      "Early stopping, best iteration is:\n",
      "[156]\tvalid_0's multi_error: 0.174026\n",
      "|  2        |  0.826    |  0.3749   |  0.1752   |  1.492    |  0.02697  |  13.28    |  10.59    |  0.6798   |  0.00257  |  10.21    |\n",
      "Training until validation scores don't improve for 200 rounds\n",
      "[250]\tvalid_0's multi_error: 0.167273\n",
      "[500]\tvalid_0's multi_error: 0.166234\n",
      "Early stopping, best iteration is:\n",
      "[439]\tvalid_0's multi_error: 0.164156\n",
      "|  3        |  0.8358   |  0.05424  |  1.792    |  4.745    |  0.07319  |  6.833    |  18.77    |  0.0319   |  0.000660 |  14.45    |\n",
      "Training until validation scores don't improve for 200 rounds\n",
      "Early stopping, best iteration is:\n",
      "[34]\tvalid_0's multi_error: 0.195325\n",
      "|  4        |  0.8047   |  0.4432   |  0.04358  |  3.733    |  0.2457   |  3.909    |  14.85    |  0.5093   |  0.004804 |  19.33    |\n",
      "Training until validation scores don't improve for 200 rounds\n",
      "[250]\tvalid_0's multi_error: 0.180779\n",
      "Early stopping, best iteration is:\n",
      "[111]\tvalid_0's multi_error: 0.179221\n",
      "|  5        |  0.8208   |  0.05001  |  1.235    |  3.561    |  0.1041   |  6.324    |  15.43    |  0.9186   |  0.002452 |  11.87    |\n",
      "Training until validation scores don't improve for 200 rounds\n",
      "[250]\tvalid_0's multi_error: 0.206753\n",
      "Early stopping, best iteration is:\n",
      "[50]\tvalid_0's multi_error: 0.206753\n",
      "|  6        |  0.7932   |  0.1638   |  1.897    |  3.023    |  0.234    |  3.815    |  15.29    |  0.5483   |  0.001388 |  6.481    |\n",
      "Training until validation scores don't improve for 200 rounds\n",
      "Early stopping, best iteration is:\n",
      "[42]\tvalid_0's multi_error: 0.192727\n",
      "|  7        |  0.8073   |  0.1605   |  0.7589   |  4.63     |  0.2072   |  5.852    |  13.53    |  0.5566   |  0.000736 |  17.6     |\n",
      "Training until validation scores don't improve for 200 rounds\n",
      "Early stopping, best iteration is:\n",
      "[47]\tvalid_0's multi_error: 0.214026\n",
      "|  8        |  0.786    |  0.2324   |  0.7244   |  0.9546   |  0.1523   |  11.54    |  19.77    |  0.8748   |  0.004995 |  6.602    |\n",
      "Training until validation scores don't improve for 200 rounds\n",
      "Early stopping, best iteration is:\n",
      "[21]\tvalid_0's multi_error: 0.268571\n",
      "|  9        |  0.7314   |  0.4609   |  1.825    |  1.133    |  0.263    |  4.636    |  8.546    |  0.5954   |  0.005644 |  19.38    |\n",
      "Training until validation scores don't improve for 200 rounds\n",
      "[250]\tvalid_0's multi_error: 0.177143\n",
      "Early stopping, best iteration is:\n",
      "[98]\tvalid_0's multi_error: 0.175584\n",
      "|  10       |  0.8244   |  0.254    |  0.6448   |  3.803    |  0.06847  |  5.109    |  11.56    |  0.3403   |  0.009673 |  7.145    |\n",
      "Training until validation scores don't improve for 200 rounds\n",
      "[250]\tvalid_0's multi_error: 0.183896\n",
      "[500]\tvalid_0's multi_error: 0.175584\n",
      "[750]\tvalid_0's multi_error: 0.16987\n",
      "[1000]\tvalid_0's multi_error: 0.166753\n",
      "Early stopping, best iteration is:\n",
      "[955]\tvalid_0's multi_error: 0.166234\n",
      "|  11       |  0.8338   |  0.2527   |  0.0      |  2.962    |  0.01     |  9.788    |  8.536    |  0.3399   |  0.00778  |  6.776    |\n",
      "Training until validation scores don't improve for 200 rounds\n",
      "[250]\tvalid_0's multi_error: 0.202078\n",
      "[500]\tvalid_0's multi_error: 0.193766\n",
      "Early stopping, best iteration is:\n",
      "[360]\tvalid_0's multi_error: 0.190649\n",
      "|  12       |  0.8094   |  0.5      |  0.0      |  0.0      |  0.01     |  15.0     |  6.197    |  1.0      |  1e-05    |  5.0      |\n",
      "Training until validation scores don't improve for 200 rounds\n",
      "[250]\tvalid_0's multi_error: 0.197922\n",
      "[500]\tvalid_0's multi_error: 0.175584\n",
      "[750]\tvalid_0's multi_error: 0.167792\n",
      "[1000]\tvalid_0's multi_error: 0.161558\n",
      "[1250]\tvalid_0's multi_error: 0.158442\n",
      "Early stopping, best iteration is:\n",
      "[1130]\tvalid_0's multi_error: 0.157403\n",
      "|  13       |  0.8426   |  0.05     |  0.0      |  5.0      |  0.01     |  4.882    |  5.075    |  0.0      |  0.01     |  5.0      |\n",
      "Training until validation scores don't improve for 200 rounds\n",
      "[250]\tvalid_0's multi_error: 0.226494\n",
      "[500]\tvalid_0's multi_error: 0.215065\n",
      "[750]\tvalid_0's multi_error: 0.198442\n",
      "[1000]\tvalid_0's multi_error: 0.197403\n",
      "[1250]\tvalid_0's multi_error: 0.195325\n",
      "Early stopping, best iteration is:\n",
      "[1242]\tvalid_0's multi_error: 0.195325\n",
      "|  14       |  0.8047   |  0.5      |  5.0      |  5.0      |  0.01     |  7.229    |  5.003    |  0.0      |  0.01     |  5.0      |\n",
      "Training until validation scores don't improve for 200 rounds\n",
      "[250]\tvalid_0's multi_error: 0.183377\n",
      "[500]\tvalid_0's multi_error: 0.167273\n",
      "[750]\tvalid_0's multi_error: 0.164156\n",
      "[1000]\tvalid_0's multi_error: 0.161039\n",
      "[1250]\tvalid_0's multi_error: 0.159481\n",
      "Early stopping, best iteration is:\n",
      "[1239]\tvalid_0's multi_error: 0.159481\n",
      "|  15       |  0.8405   |  0.05     |  0.0      |  0.0      |  0.01     |  3.633    |  5.768    |  0.7347   |  0.009193 |  5.0      |\n",
      "=====================================================================================================================================\n"
     ]
    }
   ],
   "source": [
    "init_points = 10\n",
    "n_iter = 5\n",
    "\n",
    "print('-' * 130)\n",
    "with warnings.catch_warnings():\n",
    "    warnings.filterwarnings('ignore')\n",
    "    LGB_BO.maximize(init_points=init_points, n_iter=n_iter, acq='ucb', xi=0.0, alpha=1e-6)"
   ]
  },
  {
   "cell_type": "code",
   "execution_count": 12,
   "metadata": {
    "execution": {
     "iopub.execute_input": "2020-10-18T14:59:17.578594Z",
     "iopub.status.busy": "2020-10-18T14:59:17.577688Z",
     "iopub.status.idle": "2020-10-18T14:59:17.582192Z",
     "shell.execute_reply": "2020-10-18T14:59:17.581612Z"
    },
    "papermill": {
     "duration": 0.297642,
     "end_time": "2020-10-18T14:59:17.582317",
     "exception": false,
     "start_time": "2020-10-18T14:59:17.284675",
     "status": "completed"
    },
    "tags": []
   },
   "outputs": [
    {
     "data": {
      "text/plain": [
       "{'feature_fraction': 0.05,\n",
       " 'lambda_l1': 0.0,\n",
       " 'lambda_l2': 5.0,\n",
       " 'learning_rate': 0.01,\n",
       " 'max_depth': 4.882082219992168,\n",
       " 'min_data_in_leaf': 5.07479887170428,\n",
       " 'min_gain_to_split': 0.0,\n",
       " 'min_sum_hessian_in_leaf': 0.01,\n",
       " 'num_leaves': 5.0}"
      ]
     },
     "execution_count": 12,
     "metadata": {},
     "output_type": "execute_result"
    }
   ],
   "source": [
    "# parameters that produce best results on auc\n",
    "LGB_BO.max['params']"
   ]
  },
  {
   "cell_type": "code",
   "execution_count": 13,
   "metadata": {
    "execution": {
     "iopub.execute_input": "2020-10-18T14:59:18.178802Z",
     "iopub.status.busy": "2020-10-18T14:59:18.177732Z",
     "iopub.status.idle": "2020-10-18T14:59:18.218813Z",
     "shell.execute_reply": "2020-10-18T14:59:18.212149Z"
    },
    "papermill": {
     "duration": 0.348361,
     "end_time": "2020-10-18T14:59:18.218985",
     "exception": false,
     "start_time": "2020-10-18T14:59:17.870624",
     "status": "completed"
    },
    "tags": []
   },
   "outputs": [
    {
     "name": "stdout",
     "output_type": "stream",
     "text": [
      "Iteration 0: \n",
      "\t{'target': 0.787012987012987, 'params': {'feature_fraction': 0.3999660847582191, 'lambda_l1': 1.1877061001745615, 'lambda_l2': 4.1213926633068425, 'learning_rate': 0.2900672674324699, 'max_depth': 14.67121336685872, 'min_data_in_leaf': 11.801738711259683, 'min_gain_to_split': 0.6090424627612779, 'min_sum_hessian_in_leaf': 0.007757509880902418, 'num_leaves': 14.624200171386038}}\n",
      "Iteration 1: \n",
      "\t{'target': 0.825974025974026, 'params': {'feature_fraction': 0.3749082032826262, 'lambda_l1': 0.17518262050718658, 'lambda_l2': 1.492247354445897, 'learning_rate': 0.026968622645801674, 'max_depth': 13.284731311046386, 'min_data_in_leaf': 10.592810418122113, 'min_gain_to_split': 0.679847951578097, 'min_sum_hessian_in_leaf': 0.002570236693773035, 'num_leaves': 10.21371822728738}}\n",
      "Iteration 2: \n",
      "\t{'target': 0.8358441558441558, 'params': {'feature_fraction': 0.05423574653643624, 'lambda_l1': 1.7916689135248487, 'lambda_l2': 4.745470908391052, 'learning_rate': 0.07319071264818977, 'max_depth': 6.8326963965643746, 'min_data_in_leaf': 18.76658579000881, 'min_gain_to_split': 0.03190366643989473, 'min_sum_hessian_in_leaf': 0.0006601945250547198, 'num_leaves': 14.447434986617345}}\n",
      "Iteration 3: \n",
      "\t{'target': 0.8046753246753247, 'params': {'feature_fraction': 0.4432160494757924, 'lambda_l1': 0.04357866151892431, 'lambda_l2': 3.7328861849696877, 'learning_rate': 0.24572393959076078, 'max_depth': 3.9086093540672007, 'min_data_in_leaf': 14.846830018954368, 'min_gain_to_split': 0.5092622000835182, 'min_sum_hessian_in_leaf': 0.004804035081048867, 'num_leaves': 19.333612173965996}}\n",
      "Iteration 4: \n",
      "\t{'target': 0.8207792207792208, 'params': {'feature_fraction': 0.0500054151062683, 'lambda_l1': 1.2348935049595817, 'lambda_l2': 3.5611633895579176, 'learning_rate': 0.1041287944381468, 'max_depth': 6.323956276605713, 'min_data_in_leaf': 15.431681788302118, 'min_gain_to_split': 0.9185517481459488, 'min_sum_hessian_in_leaf': 0.0024523122649579236, 'num_leaves': 11.871287259151455}}\n",
      "Iteration 5: \n",
      "\t{'target': 0.7932467532467532, 'params': {'feature_fraction': 0.1638467072696779, 'lambda_l1': 1.8966664574153307, 'lambda_l2': 3.0226941431585552, 'learning_rate': 0.2339898403073618, 'max_depth': 3.815009961532974, 'min_data_in_leaf': 15.291276187809702, 'min_gain_to_split': 0.5482600973958253, 'min_sum_hessian_in_leaf': 0.0013884806670549901, 'num_leaves': 6.481298288073776}}\n",
      "Iteration 6: \n",
      "\t{'target': 0.8072727272727273, 'params': {'feature_fraction': 0.16050159739609504, 'lambda_l1': 0.758933312922363, 'lambda_l2': 4.629972397451089, 'learning_rate': 0.2072304545253462, 'max_depth': 5.851907062556199, 'min_data_in_leaf': 13.533278788348406, 'min_gain_to_split': 0.5566320514344026, 'min_sum_hessian_in_leaf': 0.0007366447367346347, 'num_leaves': 17.595627656241064}}\n",
      "Iteration 7: \n",
      "\t{'target': 0.785974025974026, 'params': {'feature_fraction': 0.23239377171415915, 'lambda_l1': 0.7243549452316256, 'lambda_l2': 0.9546002933329684, 'learning_rate': 0.15228563974889664, 'max_depth': 11.544292490997039, 'min_data_in_leaf': 19.77407686551512, 'min_gain_to_split': 0.8747865017350445, 'min_sum_hessian_in_leaf': 0.004995426422169931, 'num_leaves': 6.601699909905633}}\n",
      "Iteration 8: \n",
      "\t{'target': 0.7314285714285714, 'params': {'feature_fraction': 0.46094576314533936, 'lambda_l1': 1.824579804431425, 'lambda_l2': 1.132939384497142, 'learning_rate': 0.26300524008017423, 'max_depth': 4.636300221110855, 'min_data_in_leaf': 8.545702402292303, 'min_gain_to_split': 0.5953992453523792, 'min_sum_hessian_in_leaf': 0.005643586864696363, 'num_leaves': 19.384020979749458}}\n",
      "Iteration 9: \n",
      "\t{'target': 0.8244155844155844, 'params': {'feature_fraction': 0.25395769995061995, 'lambda_l1': 0.6447903728927024, 'lambda_l2': 3.80283838383695, 'learning_rate': 0.06847388178309341, 'max_depth': 5.1087583585581795, 'min_data_in_leaf': 11.556770189762165, 'min_gain_to_split': 0.34026080284781257, 'min_sum_hessian_in_leaf': 0.009672858554520087, 'num_leaves': 7.145391156313573}}\n",
      "Iteration 10: \n",
      "\t{'target': 0.8337662337662337, 'params': {'feature_fraction': 0.25266907042993825, 'lambda_l1': 0.0, 'lambda_l2': 2.9616797127861245, 'learning_rate': 0.01, 'max_depth': 9.788236064402874, 'min_data_in_leaf': 8.53592043297497, 'min_gain_to_split': 0.3399461730221129, 'min_sum_hessian_in_leaf': 0.007780302408661174, 'num_leaves': 6.775937762038013}}\n",
      "Iteration 11: \n",
      "\t{'target': 0.8093506493506494, 'params': {'feature_fraction': 0.5, 'lambda_l1': 0.0, 'lambda_l2': 0.0, 'learning_rate': 0.01, 'max_depth': 15.0, 'min_data_in_leaf': 6.197119559090505, 'min_gain_to_split': 1.0, 'min_sum_hessian_in_leaf': 1e-05, 'num_leaves': 5.0}}\n",
      "Iteration 12: \n",
      "\t{'target': 0.8425974025974026, 'params': {'feature_fraction': 0.05, 'lambda_l1': 0.0, 'lambda_l2': 5.0, 'learning_rate': 0.01, 'max_depth': 4.882082219992168, 'min_data_in_leaf': 5.07479887170428, 'min_gain_to_split': 0.0, 'min_sum_hessian_in_leaf': 0.01, 'num_leaves': 5.0}}\n",
      "Iteration 13: \n",
      "\t{'target': 0.8046753246753247, 'params': {'feature_fraction': 0.5, 'lambda_l1': 5.0, 'lambda_l2': 5.0, 'learning_rate': 0.01, 'max_depth': 7.2294574233327165, 'min_data_in_leaf': 5.003325938900966, 'min_gain_to_split': 0.0, 'min_sum_hessian_in_leaf': 0.01, 'num_leaves': 5.0}}\n",
      "Iteration 14: \n",
      "\t{'target': 0.8405194805194806, 'params': {'feature_fraction': 0.05, 'lambda_l1': 0.0, 'lambda_l2': 0.0, 'learning_rate': 0.01, 'max_depth': 3.632702875346542, 'min_data_in_leaf': 5.767605555331379, 'min_gain_to_split': 0.734657876453954, 'min_sum_hessian_in_leaf': 0.009193074399571656, 'num_leaves': 5.0}}\n"
     ]
    }
   ],
   "source": [
    "LGB_BO.probe(\n",
    "    params={'feature_fraction': LGB_BO.max['params']['feature_fraction'], \n",
    "            'lambda_l1':LGB_BO.max['params']['lambda_l1'], \n",
    "            'lambda_l2': LGB_BO.max['params']['lambda_l2'], \n",
    "            'learning_rate': LGB_BO.max['params']['learning_rate'], \n",
    "            'max_depth': LGB_BO.max['params']['max_depth'], \n",
    "            'min_data_in_leaf': LGB_BO.max['params']['min_data_in_leaf'] ,\n",
    "            'min_gain_to_split': LGB_BO.max['params']['min_gain_to_split'], \n",
    "            'min_sum_hessian_in_leaf': LGB_BO.max['params']['min_sum_hessian_in_leaf'], \n",
    "            'num_leaves': LGB_BO.max['params']['num_leaves']},\n",
    "    lazy=True,\n",
    ")\n",
    "\n",
    "for i, res in enumerate(LGB_BO.res):\n",
    "    print(\"Iteration {}: \\n\\t{}\".format(i, res))\n",
    "    \n",
    "param_lgb = {\n",
    "        'num_leaves': int(LGB_BO.max['params']['num_leaves']), # remember to int here\n",
    "        'max_bin': 63,\n",
    "        'min_data_in_leaf': int(LGB_BO.max['params']['min_data_in_leaf']), # remember to int here\n",
    "        'learning_rate': LGB_BO.max['params']['learning_rate'],\n",
    "        'min_sum_hessian_in_leaf': LGB_BO.max['params']['min_sum_hessian_in_leaf'],\n",
    "        'bagging_fraction': 1.0, \n",
    "        'bagging_freq': 5, \n",
    "        'num_class':144,\n",
    "        'feature_fraction': LGB_BO.max['params']['feature_fraction'],\n",
    "        'lambda_l1': LGB_BO.max['params']['lambda_l1'],\n",
    "        'lambda_l2': LGB_BO.max['params']['lambda_l2'],\n",
    "        'min_gain_to_split': LGB_BO.max['params']['min_gain_to_split'],\n",
    "        'max_depth': int(LGB_BO.max['params']['max_depth']), # remember to int here\n",
    "        'save_binary': True,\n",
    "        'seed': 1337,\n",
    "        'feature_fraction_seed': 1337,\n",
    "        'bagging_seed': 1337,\n",
    "        'drop_seed': 1337,\n",
    "        'data_random_seed': 1337,\n",
    "        'objective': 'multiclass',\n",
    "        'boosting_type': 'gbdt',\n",
    "        'verbose': 1,\n",
    "        'metric': 'multi_error',\n",
    "        'is_unbalance': True,\n",
    "        'boost_from_average': False}\n",
    "\n"
   ]
  },
  {
   "cell_type": "code",
   "execution_count": 14,
   "metadata": {
    "execution": {
     "iopub.execute_input": "2020-10-18T14:59:18.826270Z",
     "iopub.status.busy": "2020-10-18T14:59:18.825071Z",
     "iopub.status.idle": "2020-10-18T15:39:31.020044Z",
     "shell.execute_reply": "2020-10-18T15:39:31.019381Z"
    },
    "papermill": {
     "duration": 2412.506737,
     "end_time": "2020-10-18T15:39:31.020180",
     "exception": false,
     "start_time": "2020-10-18T14:59:18.513443",
     "status": "completed"
    },
    "tags": []
   },
   "outputs": [
    {
     "name": "stdout",
     "output_type": "stream",
     "text": [
      "\n",
      "fold 1\n",
      "Training until validation scores don't improve for 200 rounds\n",
      "[250]\tvalid_0's multi_error: 0.17974\n",
      "[500]\tvalid_0's multi_error: 0.163117\n",
      "[750]\tvalid_0's multi_error: 0.156364\n",
      "[1000]\tvalid_0's multi_error: 0.153247\n",
      "[1250]\tvalid_0's multi_error: 0.148052\n",
      "[1500]\tvalid_0's multi_error: 0.143896\n",
      "[1750]\tvalid_0's multi_error: 0.141818\n",
      "[2000]\tvalid_0's multi_error: 0.141299\n",
      "[2250]\tvalid_0's multi_error: 0.139221\n",
      "Early stopping, best iteration is:\n",
      "[2114]\tvalid_0's multi_error: 0.138182\n",
      "\n",
      "fold 2\n",
      "Training until validation scores don't improve for 200 rounds\n",
      "[250]\tvalid_0's multi_error: 0.201663\n",
      "[500]\tvalid_0's multi_error: 0.182432\n",
      "[750]\tvalid_0's multi_error: 0.175676\n",
      "[1000]\tvalid_0's multi_error: 0.162162\n",
      "[1250]\tvalid_0's multi_error: 0.159044\n",
      "[1500]\tvalid_0's multi_error: 0.156445\n",
      "[1750]\tvalid_0's multi_error: 0.153846\n",
      "[2000]\tvalid_0's multi_error: 0.150728\n",
      "[2250]\tvalid_0's multi_error: 0.150208\n",
      "Early stopping, best iteration is:\n",
      "[2061]\tvalid_0's multi_error: 0.150208\n",
      "\n",
      "fold 3\n",
      "Training until validation scores don't improve for 200 rounds\n",
      "[250]\tvalid_0's multi_error: 0.20894\n",
      "[500]\tvalid_0's multi_error: 0.182432\n",
      "[750]\tvalid_0's multi_error: 0.173077\n",
      "[1000]\tvalid_0's multi_error: 0.170998\n",
      "Early stopping, best iteration is:\n",
      "[868]\tvalid_0's multi_error: 0.167879\n",
      "\n",
      "fold 4\n",
      "Training until validation scores don't improve for 200 rounds\n",
      "[250]\tvalid_0's multi_error: 0.200624\n",
      "[500]\tvalid_0's multi_error: 0.180873\n",
      "[750]\tvalid_0's multi_error: 0.174116\n",
      "[1000]\tvalid_0's multi_error: 0.168399\n",
      "[1250]\tvalid_0's multi_error: 0.1658\n",
      "[1500]\tvalid_0's multi_error: 0.162162\n",
      "[1750]\tvalid_0's multi_error: 0.157484\n",
      "[2000]\tvalid_0's multi_error: 0.156445\n",
      "Early stopping, best iteration is:\n",
      "[1830]\tvalid_0's multi_error: 0.156445\n",
      "\n",
      "fold 5\n",
      "Training until validation scores don't improve for 200 rounds\n",
      "[250]\tvalid_0's multi_error: 0.200104\n",
      "[500]\tvalid_0's multi_error: 0.181913\n",
      "[750]\tvalid_0's multi_error: 0.168919\n",
      "[1000]\tvalid_0's multi_error: 0.162682\n",
      "[1250]\tvalid_0's multi_error: 0.159044\n",
      "[1500]\tvalid_0's multi_error: 0.156965\n",
      "Early stopping, best iteration is:\n",
      "[1419]\tvalid_0's multi_error: 0.155925\n",
      "\n",
      "\n",
      "CV AUC: 0.85\n"
     ]
    }
   ],
   "source": [
    "import json\n",
    "skf = StratifiedKFold(n_splits=5, shuffle=True, random_state=2019)\n",
    "\n",
    "oof = np.zeros(len(train_df))\n",
    "#predictions = np.zeros((len(test_df),nfold))\n",
    "feature_importance_df = pd.DataFrame()\n",
    "    \n",
    "i = 1\n",
    "for train_index, valid_index in skf.split(df1.values, df[target].values):\n",
    "    print(\"\\nfold {}\".format(i))\n",
    "    xg_train = lgb.Dataset(df1.iloc[train_index].values,\n",
    "                           label=df.iloc[train_index][target].values,\n",
    "                           free_raw_data = False\n",
    "                           )\n",
    "    xg_valid = lgb.Dataset(df1.iloc[valid_index].values,\n",
    "                           label=df.iloc[valid_index][target].values,\n",
    "                           free_raw_data = False\n",
    "                           )   \n",
    "\n",
    "    \n",
    "    clf = lgb.train(param_lgb, xg_train, 5000, valid_sets = [xg_valid], verbose_eval=250, early_stopping_rounds = 200)\n",
    "    oof[valid_index] = np.argmax(clf.predict(df1.iloc[valid_index].values, num_iteration=clf.best_iteration),axis=1)\n",
    "    clf.save_model(str(i)+'_model.txt')\n",
    "    \n",
    "    model_json = clf.dump_model()\n",
    "\n",
    "    with open('model.json', 'w+') as f:\n",
    "        json.dump(model_json, f, indent=4)\n",
    "    #predictions[:,i-1] += clf.predict(test_df[predictors], num_iteration=clf.best_iteration)\n",
    "    i = i + 1\n",
    "\n",
    "print(\"\\n\\nCV AUC: {:<0.2f}\".format(metrics.accuracy_score(df[target].values, oof)))"
   ]
  },
  {
   "cell_type": "code",
   "execution_count": null,
   "metadata": {
    "papermill": {
     "duration": 0.335963,
     "end_time": "2020-10-18T15:39:31.938761",
     "exception": false,
     "start_time": "2020-10-18T15:39:31.602798",
     "status": "completed"
    },
    "tags": []
   },
   "outputs": [],
   "source": []
  },
  {
   "cell_type": "code",
   "execution_count": null,
   "metadata": {
    "papermill": {
     "duration": 0.338143,
     "end_time": "2020-10-18T15:39:32.613121",
     "exception": false,
     "start_time": "2020-10-18T15:39:32.274978",
     "status": "completed"
    },
    "tags": []
   },
   "outputs": [],
   "source": []
  },
  {
   "cell_type": "code",
   "execution_count": null,
   "metadata": {
    "papermill": {
     "duration": 0.335643,
     "end_time": "2020-10-18T15:39:33.284618",
     "exception": false,
     "start_time": "2020-10-18T15:39:32.948975",
     "status": "completed"
    },
    "tags": []
   },
   "outputs": [],
   "source": []
  },
  {
   "cell_type": "code",
   "execution_count": null,
   "metadata": {
    "papermill": {
     "duration": 0.334117,
     "end_time": "2020-10-18T15:39:33.952228",
     "exception": false,
     "start_time": "2020-10-18T15:39:33.618111",
     "status": "completed"
    },
    "tags": []
   },
   "outputs": [],
   "source": []
  },
  {
   "cell_type": "code",
   "execution_count": null,
   "metadata": {
    "papermill": {
     "duration": 0.333845,
     "end_time": "2020-10-18T15:39:34.621472",
     "exception": false,
     "start_time": "2020-10-18T15:39:34.287627",
     "status": "completed"
    },
    "tags": []
   },
   "outputs": [],
   "source": []
  },
  {
   "cell_type": "code",
   "execution_count": null,
   "metadata": {
    "papermill": {
     "duration": 0.336072,
     "end_time": "2020-10-18T15:39:35.292611",
     "exception": false,
     "start_time": "2020-10-18T15:39:34.956539",
     "status": "completed"
    },
    "tags": []
   },
   "outputs": [],
   "source": []
  },
  {
   "cell_type": "code",
   "execution_count": null,
   "metadata": {
    "papermill": {
     "duration": 0.337498,
     "end_time": "2020-10-18T15:39:35.964688",
     "exception": false,
     "start_time": "2020-10-18T15:39:35.627190",
     "status": "completed"
    },
    "tags": []
   },
   "outputs": [],
   "source": []
  }
 ],
 "metadata": {
  "kernelspec": {
   "display_name": "Python 3",
   "language": "python",
   "name": "python3"
  },
  "language_info": {
   "codemirror_mode": {
    "name": "ipython",
    "version": 3
   },
   "file_extension": ".py",
   "mimetype": "text/x-python",
   "name": "python",
   "nbconvert_exporter": "python",
   "pygments_lexer": "ipython3",
   "version": "3.7.6"
  },
  "papermill": {
   "duration": 5865.898153,
   "end_time": "2020-10-18T15:39:36.514028",
   "environment_variables": {},
   "exception": null,
   "input_path": "__notebook__.ipynb",
   "output_path": "__notebook__.ipynb",
   "parameters": {},
   "start_time": "2020-10-18T14:01:50.615875",
   "version": "2.1.0"
  },
  "widgets": {
   "application/vnd.jupyter.widget-state+json": {
    "state": {
     "13da5c4539db4b3da7ada47d4b60f024": {
      "model_module": "@jupyter-widgets/base",
      "model_module_version": "1.2.0",
      "model_name": "LayoutModel",
      "state": {
       "_model_module": "@jupyter-widgets/base",
       "_model_module_version": "1.2.0",
       "_model_name": "LayoutModel",
       "_view_count": null,
       "_view_module": "@jupyter-widgets/base",
       "_view_module_version": "1.2.0",
       "_view_name": "LayoutView",
       "align_content": null,
       "align_items": null,
       "align_self": null,
       "border": null,
       "bottom": null,
       "display": null,
       "flex": null,
       "flex_flow": null,
       "grid_area": null,
       "grid_auto_columns": null,
       "grid_auto_flow": null,
       "grid_auto_rows": null,
       "grid_column": null,
       "grid_gap": null,
       "grid_row": null,
       "grid_template_areas": null,
       "grid_template_columns": null,
       "grid_template_rows": null,
       "height": null,
       "justify_content": null,
       "justify_items": null,
       "left": null,
       "margin": null,
       "max_height": null,
       "max_width": null,
       "min_height": null,
       "min_width": null,
       "object_fit": null,
       "object_position": null,
       "order": null,
       "overflow": null,
       "overflow_x": null,
       "overflow_y": null,
       "padding": null,
       "right": null,
       "top": null,
       "visibility": null,
       "width": null
      }
     },
     "168df9d2065a46518b13ff20bee1fea4": {
      "model_module": "@jupyter-widgets/controls",
      "model_module_version": "1.5.0",
      "model_name": "HTMLModel",
      "state": {
       "_dom_classes": [],
       "_model_module": "@jupyter-widgets/controls",
       "_model_module_version": "1.5.0",
       "_model_name": "HTMLModel",
       "_view_count": null,
       "_view_module": "@jupyter-widgets/controls",
       "_view_module_version": "1.5.0",
       "_view_name": "HTMLView",
       "description": "",
       "description_tooltip": null,
       "layout": "IPY_MODEL_13da5c4539db4b3da7ada47d4b60f024",
       "placeholder": "​",
       "style": "IPY_MODEL_f4bd0d42081d41e782653a6540c1157f",
       "value": " 301/301 [1:03:25&lt;00:00, 12.64s/it]"
      }
     },
     "16ec5f7883744fb4a570c9d4cbbc336f": {
      "model_module": "@jupyter-widgets/controls",
      "model_module_version": "1.5.0",
      "model_name": "FloatProgressModel",
      "state": {
       "_dom_classes": [],
       "_model_module": "@jupyter-widgets/controls",
       "_model_module_version": "1.5.0",
       "_model_name": "FloatProgressModel",
       "_view_count": null,
       "_view_module": "@jupyter-widgets/controls",
       "_view_module_version": "1.5.0",
       "_view_name": "ProgressView",
       "bar_style": "success",
       "description": "Batches: 100%",
       "description_tooltip": null,
       "layout": "IPY_MODEL_6e3995c24b3e4c439f63bd5d3c095f21",
       "max": 301.0,
       "min": 0.0,
       "orientation": "horizontal",
       "style": "IPY_MODEL_4e629bf4cbbf4673b0255f27cd9b1a3d",
       "value": 301.0
      }
     },
     "4e629bf4cbbf4673b0255f27cd9b1a3d": {
      "model_module": "@jupyter-widgets/controls",
      "model_module_version": "1.5.0",
      "model_name": "ProgressStyleModel",
      "state": {
       "_model_module": "@jupyter-widgets/controls",
       "_model_module_version": "1.5.0",
       "_model_name": "ProgressStyleModel",
       "_view_count": null,
       "_view_module": "@jupyter-widgets/base",
       "_view_module_version": "1.2.0",
       "_view_name": "StyleView",
       "bar_color": null,
       "description_width": "initial"
      }
     },
     "6e3995c24b3e4c439f63bd5d3c095f21": {
      "model_module": "@jupyter-widgets/base",
      "model_module_version": "1.2.0",
      "model_name": "LayoutModel",
      "state": {
       "_model_module": "@jupyter-widgets/base",
       "_model_module_version": "1.2.0",
       "_model_name": "LayoutModel",
       "_view_count": null,
       "_view_module": "@jupyter-widgets/base",
       "_view_module_version": "1.2.0",
       "_view_name": "LayoutView",
       "align_content": null,
       "align_items": null,
       "align_self": null,
       "border": null,
       "bottom": null,
       "display": null,
       "flex": null,
       "flex_flow": null,
       "grid_area": null,
       "grid_auto_columns": null,
       "grid_auto_flow": null,
       "grid_auto_rows": null,
       "grid_column": null,
       "grid_gap": null,
       "grid_row": null,
       "grid_template_areas": null,
       "grid_template_columns": null,
       "grid_template_rows": null,
       "height": null,
       "justify_content": null,
       "justify_items": null,
       "left": null,
       "margin": null,
       "max_height": null,
       "max_width": null,
       "min_height": null,
       "min_width": null,
       "object_fit": null,
       "object_position": null,
       "order": null,
       "overflow": null,
       "overflow_x": null,
       "overflow_y": null,
       "padding": null,
       "right": null,
       "top": null,
       "visibility": null,
       "width": null
      }
     },
     "a69a91c37e1c4df7b29f51c3279544f1": {
      "model_module": "@jupyter-widgets/base",
      "model_module_version": "1.2.0",
      "model_name": "LayoutModel",
      "state": {
       "_model_module": "@jupyter-widgets/base",
       "_model_module_version": "1.2.0",
       "_model_name": "LayoutModel",
       "_view_count": null,
       "_view_module": "@jupyter-widgets/base",
       "_view_module_version": "1.2.0",
       "_view_name": "LayoutView",
       "align_content": null,
       "align_items": null,
       "align_self": null,
       "border": null,
       "bottom": null,
       "display": null,
       "flex": null,
       "flex_flow": null,
       "grid_area": null,
       "grid_auto_columns": null,
       "grid_auto_flow": null,
       "grid_auto_rows": null,
       "grid_column": null,
       "grid_gap": null,
       "grid_row": null,
       "grid_template_areas": null,
       "grid_template_columns": null,
       "grid_template_rows": null,
       "height": null,
       "justify_content": null,
       "justify_items": null,
       "left": null,
       "margin": null,
       "max_height": null,
       "max_width": null,
       "min_height": null,
       "min_width": null,
       "object_fit": null,
       "object_position": null,
       "order": null,
       "overflow": null,
       "overflow_x": null,
       "overflow_y": null,
       "padding": null,
       "right": null,
       "top": null,
       "visibility": null,
       "width": null
      }
     },
     "d02d9b1e50dd45f8a678471a30483065": {
      "model_module": "@jupyter-widgets/controls",
      "model_module_version": "1.5.0",
      "model_name": "HBoxModel",
      "state": {
       "_dom_classes": [],
       "_model_module": "@jupyter-widgets/controls",
       "_model_module_version": "1.5.0",
       "_model_name": "HBoxModel",
       "_view_count": null,
       "_view_module": "@jupyter-widgets/controls",
       "_view_module_version": "1.5.0",
       "_view_name": "HBoxView",
       "box_style": "",
       "children": [
        "IPY_MODEL_16ec5f7883744fb4a570c9d4cbbc336f",
        "IPY_MODEL_168df9d2065a46518b13ff20bee1fea4"
       ],
       "layout": "IPY_MODEL_a69a91c37e1c4df7b29f51c3279544f1"
      }
     },
     "f4bd0d42081d41e782653a6540c1157f": {
      "model_module": "@jupyter-widgets/controls",
      "model_module_version": "1.5.0",
      "model_name": "DescriptionStyleModel",
      "state": {
       "_model_module": "@jupyter-widgets/controls",
       "_model_module_version": "1.5.0",
       "_model_name": "DescriptionStyleModel",
       "_view_count": null,
       "_view_module": "@jupyter-widgets/base",
       "_view_module_version": "1.2.0",
       "_view_name": "StyleView",
       "description_width": ""
      }
     }
    },
    "version_major": 2,
    "version_minor": 0
   }
  }
 },
 "nbformat": 4,
 "nbformat_minor": 4
}
